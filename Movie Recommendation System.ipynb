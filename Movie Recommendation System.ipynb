{
 "cells": [
  {
   "cell_type": "markdown",
   "id": "088b47a5-2a8c-4100-bfc7-9b7dc80fcc3f",
   "metadata": {},
   "source": [
    "ITem based Recommendation system .We have movie lens data set."
   ]
  },
  {
   "cell_type": "code",
   "execution_count": 1,
   "id": "cc0f59ad-705e-4f75-85ba-f50c384b53ce",
   "metadata": {},
   "outputs": [],
   "source": [
    "import numpy as np\n",
    "import pandas as pd\n",
    "import matplotlib.pyplot as plt\n",
    "import seaborn as sns"
   ]
  },
  {
   "cell_type": "code",
   "execution_count": 2,
   "id": "9cdea3c1-c425-4d0a-8c37-3386f730b3ba",
   "metadata": {},
   "outputs": [],
   "source": [
    "columns_names=['user_id','item_id','rating','timestamp']"
   ]
  },
  {
   "cell_type": "code",
   "execution_count": 3,
   "id": "63a0fc81-1d9e-448f-bd62-e501c714ea88",
   "metadata": {},
   "outputs": [],
   "source": [
    "#because our file doesn't have column names and data seperated by tab not commas.\n",
    "df=pd.read_csv('u.data',sep='\\t',names=columns_names)"
   ]
  },
  {
   "cell_type": "code",
   "execution_count": 4,
   "id": "07d6d949-6c39-4c88-a08b-0fa42b1fa624",
   "metadata": {},
   "outputs": [
    {
     "data": {
      "text/html": [
       "<div>\n",
       "<style scoped>\n",
       "    .dataframe tbody tr th:only-of-type {\n",
       "        vertical-align: middle;\n",
       "    }\n",
       "\n",
       "    .dataframe tbody tr th {\n",
       "        vertical-align: top;\n",
       "    }\n",
       "\n",
       "    .dataframe thead th {\n",
       "        text-align: right;\n",
       "    }\n",
       "</style>\n",
       "<table border=\"1\" class=\"dataframe\">\n",
       "  <thead>\n",
       "    <tr style=\"text-align: right;\">\n",
       "      <th></th>\n",
       "      <th>user_id</th>\n",
       "      <th>item_id</th>\n",
       "      <th>rating</th>\n",
       "      <th>timestamp</th>\n",
       "    </tr>\n",
       "  </thead>\n",
       "  <tbody>\n",
       "    <tr>\n",
       "      <th>0</th>\n",
       "      <td>0</td>\n",
       "      <td>50</td>\n",
       "      <td>5</td>\n",
       "      <td>881250949</td>\n",
       "    </tr>\n",
       "    <tr>\n",
       "      <th>1</th>\n",
       "      <td>0</td>\n",
       "      <td>172</td>\n",
       "      <td>5</td>\n",
       "      <td>881250949</td>\n",
       "    </tr>\n",
       "    <tr>\n",
       "      <th>2</th>\n",
       "      <td>0</td>\n",
       "      <td>133</td>\n",
       "      <td>1</td>\n",
       "      <td>881250949</td>\n",
       "    </tr>\n",
       "    <tr>\n",
       "      <th>3</th>\n",
       "      <td>196</td>\n",
       "      <td>242</td>\n",
       "      <td>3</td>\n",
       "      <td>881250949</td>\n",
       "    </tr>\n",
       "    <tr>\n",
       "      <th>4</th>\n",
       "      <td>186</td>\n",
       "      <td>302</td>\n",
       "      <td>3</td>\n",
       "      <td>891717742</td>\n",
       "    </tr>\n",
       "  </tbody>\n",
       "</table>\n",
       "</div>"
      ],
      "text/plain": [
       "   user_id  item_id  rating  timestamp\n",
       "0        0       50       5  881250949\n",
       "1        0      172       5  881250949\n",
       "2        0      133       1  881250949\n",
       "3      196      242       3  881250949\n",
       "4      186      302       3  891717742"
      ]
     },
     "execution_count": 4,
     "metadata": {},
     "output_type": "execute_result"
    }
   ],
   "source": [
    "df.head()"
   ]
  },
  {
   "cell_type": "code",
   "execution_count": 5,
   "id": "68493d5b-6641-4fa3-982a-d124bf2cd9f6",
   "metadata": {},
   "outputs": [
    {
     "name": "stdout",
     "output_type": "stream",
     "text": [
      "<class 'pandas.core.frame.DataFrame'>\n",
      "RangeIndex: 100003 entries, 0 to 100002\n",
      "Data columns (total 4 columns):\n",
      " #   Column     Non-Null Count   Dtype\n",
      "---  ------     --------------   -----\n",
      " 0   user_id    100003 non-null  int64\n",
      " 1   item_id    100003 non-null  int64\n",
      " 2   rating     100003 non-null  int64\n",
      " 3   timestamp  100003 non-null  int64\n",
      "dtypes: int64(4)\n",
      "memory usage: 3.1 MB\n"
     ]
    }
   ],
   "source": [
    "df.info()"
   ]
  },
  {
   "cell_type": "code",
   "execution_count": 6,
   "id": "3c3ab677-92f1-40c7-84d2-cd43765ff90a",
   "metadata": {},
   "outputs": [
    {
     "data": {
      "text/html": [
       "<div>\n",
       "<style scoped>\n",
       "    .dataframe tbody tr th:only-of-type {\n",
       "        vertical-align: middle;\n",
       "    }\n",
       "\n",
       "    .dataframe tbody tr th {\n",
       "        vertical-align: top;\n",
       "    }\n",
       "\n",
       "    .dataframe thead th {\n",
       "        text-align: right;\n",
       "    }\n",
       "</style>\n",
       "<table border=\"1\" class=\"dataframe\">\n",
       "  <thead>\n",
       "    <tr style=\"text-align: right;\">\n",
       "      <th></th>\n",
       "      <th>user_id</th>\n",
       "      <th>item_id</th>\n",
       "      <th>rating</th>\n",
       "      <th>timestamp</th>\n",
       "    </tr>\n",
       "  </thead>\n",
       "  <tbody>\n",
       "    <tr>\n",
       "      <th>count</th>\n",
       "      <td>100003.000000</td>\n",
       "      <td>100003.000000</td>\n",
       "      <td>100003.000000</td>\n",
       "      <td>1.000030e+05</td>\n",
       "    </tr>\n",
       "    <tr>\n",
       "      <th>mean</th>\n",
       "      <td>462.470876</td>\n",
       "      <td>425.520914</td>\n",
       "      <td>3.529864</td>\n",
       "      <td>8.835288e+08</td>\n",
       "    </tr>\n",
       "    <tr>\n",
       "      <th>std</th>\n",
       "      <td>266.622454</td>\n",
       "      <td>330.797791</td>\n",
       "      <td>1.125704</td>\n",
       "      <td>5.343791e+06</td>\n",
       "    </tr>\n",
       "    <tr>\n",
       "      <th>min</th>\n",
       "      <td>0.000000</td>\n",
       "      <td>1.000000</td>\n",
       "      <td>1.000000</td>\n",
       "      <td>8.747247e+08</td>\n",
       "    </tr>\n",
       "    <tr>\n",
       "      <th>25%</th>\n",
       "      <td>254.000000</td>\n",
       "      <td>175.000000</td>\n",
       "      <td>3.000000</td>\n",
       "      <td>8.794487e+08</td>\n",
       "    </tr>\n",
       "    <tr>\n",
       "      <th>50%</th>\n",
       "      <td>447.000000</td>\n",
       "      <td>322.000000</td>\n",
       "      <td>4.000000</td>\n",
       "      <td>8.828269e+08</td>\n",
       "    </tr>\n",
       "    <tr>\n",
       "      <th>75%</th>\n",
       "      <td>682.000000</td>\n",
       "      <td>631.000000</td>\n",
       "      <td>4.000000</td>\n",
       "      <td>8.882600e+08</td>\n",
       "    </tr>\n",
       "    <tr>\n",
       "      <th>max</th>\n",
       "      <td>943.000000</td>\n",
       "      <td>1682.000000</td>\n",
       "      <td>5.000000</td>\n",
       "      <td>8.932866e+08</td>\n",
       "    </tr>\n",
       "  </tbody>\n",
       "</table>\n",
       "</div>"
      ],
      "text/plain": [
       "             user_id        item_id         rating     timestamp\n",
       "count  100003.000000  100003.000000  100003.000000  1.000030e+05\n",
       "mean      462.470876     425.520914       3.529864  8.835288e+08\n",
       "std       266.622454     330.797791       1.125704  5.343791e+06\n",
       "min         0.000000       1.000000       1.000000  8.747247e+08\n",
       "25%       254.000000     175.000000       3.000000  8.794487e+08\n",
       "50%       447.000000     322.000000       4.000000  8.828269e+08\n",
       "75%       682.000000     631.000000       4.000000  8.882600e+08\n",
       "max       943.000000    1682.000000       5.000000  8.932866e+08"
      ]
     },
     "execution_count": 6,
     "metadata": {},
     "output_type": "execute_result"
    }
   ],
   "source": [
    "df.describe()"
   ]
  },
  {
   "cell_type": "code",
   "execution_count": 7,
   "id": "09389a18-59f1-4a70-bab6-12566e059256",
   "metadata": {},
   "outputs": [],
   "source": [
    "movie_titles=pd.read_csv('Movie_Id_Titles')"
   ]
  },
  {
   "cell_type": "code",
   "execution_count": 8,
   "id": "ae33193f-2884-4ee1-825d-b277661dcfb4",
   "metadata": {},
   "outputs": [
    {
     "data": {
      "text/html": [
       "<div>\n",
       "<style scoped>\n",
       "    .dataframe tbody tr th:only-of-type {\n",
       "        vertical-align: middle;\n",
       "    }\n",
       "\n",
       "    .dataframe tbody tr th {\n",
       "        vertical-align: top;\n",
       "    }\n",
       "\n",
       "    .dataframe thead th {\n",
       "        text-align: right;\n",
       "    }\n",
       "</style>\n",
       "<table border=\"1\" class=\"dataframe\">\n",
       "  <thead>\n",
       "    <tr style=\"text-align: right;\">\n",
       "      <th></th>\n",
       "      <th>item_id</th>\n",
       "      <th>title</th>\n",
       "    </tr>\n",
       "  </thead>\n",
       "  <tbody>\n",
       "    <tr>\n",
       "      <th>0</th>\n",
       "      <td>1</td>\n",
       "      <td>Toy Story (1995)</td>\n",
       "    </tr>\n",
       "    <tr>\n",
       "      <th>1</th>\n",
       "      <td>2</td>\n",
       "      <td>GoldenEye (1995)</td>\n",
       "    </tr>\n",
       "    <tr>\n",
       "      <th>2</th>\n",
       "      <td>3</td>\n",
       "      <td>Four Rooms (1995)</td>\n",
       "    </tr>\n",
       "    <tr>\n",
       "      <th>3</th>\n",
       "      <td>4</td>\n",
       "      <td>Get Shorty (1995)</td>\n",
       "    </tr>\n",
       "    <tr>\n",
       "      <th>4</th>\n",
       "      <td>5</td>\n",
       "      <td>Copycat (1995)</td>\n",
       "    </tr>\n",
       "  </tbody>\n",
       "</table>\n",
       "</div>"
      ],
      "text/plain": [
       "   item_id              title\n",
       "0        1   Toy Story (1995)\n",
       "1        2   GoldenEye (1995)\n",
       "2        3  Four Rooms (1995)\n",
       "3        4  Get Shorty (1995)\n",
       "4        5     Copycat (1995)"
      ]
     },
     "execution_count": 8,
     "metadata": {},
     "output_type": "execute_result"
    }
   ],
   "source": [
    "movie_titles.head()"
   ]
  },
  {
   "cell_type": "markdown",
   "id": "1d6d0563-6cc5-44dd-8dea-dd9202387a74",
   "metadata": {},
   "source": [
    "Now we need to merge both data frame on the based on common column."
   ]
  },
  {
   "cell_type": "code",
   "execution_count": 9,
   "id": "af09547b-0120-414a-82b8-25d1d5295019",
   "metadata": {},
   "outputs": [],
   "source": [
    "df=pd.merge(df,movie_titles,on='item_id')"
   ]
  },
  {
   "cell_type": "code",
   "execution_count": 10,
   "id": "3e0b9c02-d28a-455e-9632-5f59716e5671",
   "metadata": {},
   "outputs": [
    {
     "data": {
      "text/html": [
       "<div>\n",
       "<style scoped>\n",
       "    .dataframe tbody tr th:only-of-type {\n",
       "        vertical-align: middle;\n",
       "    }\n",
       "\n",
       "    .dataframe tbody tr th {\n",
       "        vertical-align: top;\n",
       "    }\n",
       "\n",
       "    .dataframe thead th {\n",
       "        text-align: right;\n",
       "    }\n",
       "</style>\n",
       "<table border=\"1\" class=\"dataframe\">\n",
       "  <thead>\n",
       "    <tr style=\"text-align: right;\">\n",
       "      <th></th>\n",
       "      <th>user_id</th>\n",
       "      <th>item_id</th>\n",
       "      <th>rating</th>\n",
       "      <th>timestamp</th>\n",
       "      <th>title</th>\n",
       "    </tr>\n",
       "  </thead>\n",
       "  <tbody>\n",
       "    <tr>\n",
       "      <th>0</th>\n",
       "      <td>0</td>\n",
       "      <td>50</td>\n",
       "      <td>5</td>\n",
       "      <td>881250949</td>\n",
       "      <td>Star Wars (1977)</td>\n",
       "    </tr>\n",
       "    <tr>\n",
       "      <th>1</th>\n",
       "      <td>0</td>\n",
       "      <td>172</td>\n",
       "      <td>5</td>\n",
       "      <td>881250949</td>\n",
       "      <td>Empire Strikes Back, The (1980)</td>\n",
       "    </tr>\n",
       "    <tr>\n",
       "      <th>2</th>\n",
       "      <td>0</td>\n",
       "      <td>133</td>\n",
       "      <td>1</td>\n",
       "      <td>881250949</td>\n",
       "      <td>Gone with the Wind (1939)</td>\n",
       "    </tr>\n",
       "    <tr>\n",
       "      <th>3</th>\n",
       "      <td>196</td>\n",
       "      <td>242</td>\n",
       "      <td>3</td>\n",
       "      <td>881250949</td>\n",
       "      <td>Kolya (1996)</td>\n",
       "    </tr>\n",
       "    <tr>\n",
       "      <th>4</th>\n",
       "      <td>186</td>\n",
       "      <td>302</td>\n",
       "      <td>3</td>\n",
       "      <td>891717742</td>\n",
       "      <td>L.A. Confidential (1997)</td>\n",
       "    </tr>\n",
       "  </tbody>\n",
       "</table>\n",
       "</div>"
      ],
      "text/plain": [
       "   user_id  item_id  rating  timestamp                            title\n",
       "0        0       50       5  881250949                 Star Wars (1977)\n",
       "1        0      172       5  881250949  Empire Strikes Back, The (1980)\n",
       "2        0      133       1  881250949        Gone with the Wind (1939)\n",
       "3      196      242       3  881250949                     Kolya (1996)\n",
       "4      186      302       3  891717742         L.A. Confidential (1997)"
      ]
     },
     "execution_count": 10,
     "metadata": {},
     "output_type": "execute_result"
    }
   ],
   "source": [
    "df.head()"
   ]
  },
  {
   "cell_type": "markdown",
   "id": "f1fa5120-84ab-42c7-a671-4d276eaf132d",
   "metadata": {},
   "source": [
    "Let's take visualize our data by looking most rated movies ... so we need plot rating Vs title "
   ]
  },
  {
   "cell_type": "code",
   "execution_count": 14,
   "id": "27bc3c3e-7485-4b19-8ab8-01b764c99e4e",
   "metadata": {},
   "outputs": [
    {
     "data": {
      "text/plain": [
       "<Axes: xlabel='title', ylabel='rating'>"
      ]
     },
     "execution_count": 14,
     "metadata": {},
     "output_type": "execute_result"
    },
    {
     "data": {
      "image/png": "[encoded data removed]",
      "text/plain": [
       "<Figure size 1000x600 with 1 Axes>"
      ]
     },
     "metadata": {},
     "output_type": "display_data"
    }
   ],
   "source": [
    "plt.figure(figsize=(10,6))\n",
    "sns.barplot(data=df,x='title',y='rating')"
   ]
  },
  {
   "cell_type": "code",
   "execution_count": 19,
   "id": "ded2f6c3-c984-43c6-bfb6-60224fd92e6e",
   "metadata": {},
   "outputs": [
    {
     "data": {
      "text/plain": [
       "0                                     Star Wars (1977)\n",
       "1                      Empire Strikes Back, The (1980)\n",
       "10                             Jungle Book, The (1994)\n",
       "14       Romy and Michele's High School Reunion (1997)\n",
       "15                     Star Trek: First Contact (1996)\n",
       "                             ...                      \n",
       "99964           Nightmare Before Christmas, The (1993)\n",
       "99965                                   Vertigo (1958)\n",
       "99966             Bridge on the River Kwai, The (1957)\n",
       "99981                                      Fear (1996)\n",
       "99999                        Back to the Future (1985)\n",
       "Name: title, Length: 21203, dtype: object"
      ]
     },
     "execution_count": 19,
     "metadata": {},
     "output_type": "execute_result"
    }
   ],
   "source": [
    "df[df['rating']>4]['title']"
   ]
  },
  {
   "cell_type": "code",
   "execution_count": 20,
   "id": "b4d4ff2d-54cc-4824-b971-0a9f8dfa98d0",
   "metadata": {},
   "outputs": [
    {
     "data": {
      "text/plain": [
       "<Axes: xlabel='title', ylabel='rating'>"
      ]
     },
     "execution_count": 20,
     "metadata": {},
     "output_type": "execute_result"
    },
    {
     "data": {
      "image/png": "[encoded data removed]",
      "text/plain": [
       "<Figure size 640x480 with 1 Axes>"
      ]
     },
     "metadata": {},
     "output_type": "display_data"
    }
   ],
   "source": [
    "sns.scatterplot(data=df, x='title',y='rating',hue='rating')"
   ]
  },
  {
   "cell_type": "markdown",
   "id": "063b3d50-deaf-4dcd-adc4-cd90b1d50256",
   "metadata": {},
   "source": [
    "we need to group our dataframe by movie title because same movie have many different ratings so we need to group by it and grab the avg ratings of every movie."
   ]
  },
  {
   "cell_type": "code",
   "execution_count": 25,
   "id": "ce97dea6-bcde-45ac-8b43-69ef94058bb3",
   "metadata": {},
   "outputs": [
    {
     "data": {
      "text/plain": [
       "title\n",
       "They Made Me a Criminal (1939)                5.0\n",
       "Marlene Dietrich: Shadow and Light (1996)     5.0\n",
       "Saint of Fort Washington, The (1993)          5.0\n",
       "Someone Else's America (1995)                 5.0\n",
       "Star Kid (1997)                               5.0\n",
       "Name: rating, dtype: float64"
      ]
     },
     "execution_count": 25,
     "metadata": {},
     "output_type": "execute_result"
    }
   ],
   "source": [
    "df.groupby(by='title')['rating'].mean().sort_values(ascending=False).head()"
   ]
  },
  {
   "cell_type": "markdown",
   "id": "1b8d4b49-4af2-43b3-aa18-6f9312aa2bb9",
   "metadata": {},
   "source": [
    "it can be happen that a movie only seen by 1-2 people and they give 5 star . so we need to see most rated movie also."
   ]
  },
  {
   "cell_type": "code",
   "execution_count": 26,
   "id": "0a988090-c3f0-412f-8b7f-ddf063e3cbfc",
   "metadata": {},
   "outputs": [
    {
     "data": {
      "text/plain": [
       "title\n",
       "Star Wars (1977)             584\n",
       "Contact (1997)               509\n",
       "Fargo (1996)                 508\n",
       "Return of the Jedi (1983)    507\n",
       "Liar Liar (1997)             485\n",
       "Name: rating, dtype: int64"
      ]
     },
     "execution_count": 26,
     "metadata": {},
     "output_type": "execute_result"
    }
   ],
   "source": [
    "df.groupby('title')['rating'].count().sort_values(ascending=False).head()"
   ]
  },
  {
   "cell_type": "markdown",
   "id": "623cc6f7-646a-46bf-b130-65d86b59855d",
   "metadata": {},
   "source": [
    "let's create a new dataframe who have mean rating and count of rating in it."
   ]
  },
  {
   "cell_type": "code",
   "execution_count": 27,
   "id": "4b1c7344-1367-4d2f-ade4-737b0427fd1b",
   "metadata": {},
   "outputs": [],
   "source": [
    "new_df=pd.DataFrame(df.groupby(by='title')['rating'].mean())"
   ]
  },
  {
   "cell_type": "code",
   "execution_count": 28,
   "id": "a96725f3-b186-4a56-a5f3-cd786cdf1297",
   "metadata": {},
   "outputs": [
    {
     "data": {
      "text/html": [
       "<div>\n",
       "<style scoped>\n",
       "    .dataframe tbody tr th:only-of-type {\n",
       "        vertical-align: middle;\n",
       "    }\n",
       "\n",
       "    .dataframe tbody tr th {\n",
       "        vertical-align: top;\n",
       "    }\n",
       "\n",
       "    .dataframe thead th {\n",
       "        text-align: right;\n",
       "    }\n",
       "</style>\n",
       "<table border=\"1\" class=\"dataframe\">\n",
       "  <thead>\n",
       "    <tr style=\"text-align: right;\">\n",
       "      <th></th>\n",
       "      <th>rating</th>\n",
       "    </tr>\n",
       "    <tr>\n",
       "      <th>title</th>\n",
       "      <th></th>\n",
       "    </tr>\n",
       "  </thead>\n",
       "  <tbody>\n",
       "    <tr>\n",
       "      <th>'Til There Was You (1997)</th>\n",
       "      <td>2.333333</td>\n",
       "    </tr>\n",
       "    <tr>\n",
       "      <th>1-900 (1994)</th>\n",
       "      <td>2.600000</td>\n",
       "    </tr>\n",
       "    <tr>\n",
       "      <th>101 Dalmatians (1996)</th>\n",
       "      <td>2.908257</td>\n",
       "    </tr>\n",
       "    <tr>\n",
       "      <th>12 Angry Men (1957)</th>\n",
       "      <td>4.344000</td>\n",
       "    </tr>\n",
       "    <tr>\n",
       "      <th>187 (1997)</th>\n",
       "      <td>3.024390</td>\n",
       "    </tr>\n",
       "  </tbody>\n",
       "</table>\n",
       "</div>"
      ],
      "text/plain": [
       "                             rating\n",
       "title                              \n",
       "'Til There Was You (1997)  2.333333\n",
       "1-900 (1994)               2.600000\n",
       "101 Dalmatians (1996)      2.908257\n",
       "12 Angry Men (1957)        4.344000\n",
       "187 (1997)                 3.024390"
      ]
     },
     "execution_count": 28,
     "metadata": {},
     "output_type": "execute_result"
    }
   ],
   "source": [
    "new_df.head()"
   ]
  },
  {
   "cell_type": "code",
   "execution_count": 29,
   "id": "cf24448e-f5f3-4914-88c3-e31f963073bc",
   "metadata": {},
   "outputs": [],
   "source": [
    "new_df['no. of rating']=df.groupby('title')['rating'].count()"
   ]
  },
  {
   "cell_type": "code",
   "execution_count": 30,
   "id": "2b9c54b4-4828-4ada-90e7-c16f77aa0f50",
   "metadata": {},
   "outputs": [
    {
     "data": {
      "text/html": [
       "<div>\n",
       "<style scoped>\n",
       "    .dataframe tbody tr th:only-of-type {\n",
       "        vertical-align: middle;\n",
       "    }\n",
       "\n",
       "    .dataframe tbody tr th {\n",
       "        vertical-align: top;\n",
       "    }\n",
       "\n",
       "    .dataframe thead th {\n",
       "        text-align: right;\n",
       "    }\n",
       "</style>\n",
       "<table border=\"1\" class=\"dataframe\">\n",
       "  <thead>\n",
       "    <tr style=\"text-align: right;\">\n",
       "      <th></th>\n",
       "      <th>rating</th>\n",
       "      <th>no. of rating</th>\n",
       "    </tr>\n",
       "    <tr>\n",
       "      <th>title</th>\n",
       "      <th></th>\n",
       "      <th></th>\n",
       "    </tr>\n",
       "  </thead>\n",
       "  <tbody>\n",
       "    <tr>\n",
       "      <th>'Til There Was You (1997)</th>\n",
       "      <td>2.333333</td>\n",
       "      <td>9</td>\n",
       "    </tr>\n",
       "    <tr>\n",
       "      <th>1-900 (1994)</th>\n",
       "      <td>2.600000</td>\n",
       "      <td>5</td>\n",
       "    </tr>\n",
       "    <tr>\n",
       "      <th>101 Dalmatians (1996)</th>\n",
       "      <td>2.908257</td>\n",
       "      <td>109</td>\n",
       "    </tr>\n",
       "    <tr>\n",
       "      <th>12 Angry Men (1957)</th>\n",
       "      <td>4.344000</td>\n",
       "      <td>125</td>\n",
       "    </tr>\n",
       "    <tr>\n",
       "      <th>187 (1997)</th>\n",
       "      <td>3.024390</td>\n",
       "      <td>41</td>\n",
       "    </tr>\n",
       "  </tbody>\n",
       "</table>\n",
       "</div>"
      ],
      "text/plain": [
       "                             rating  no. of rating\n",
       "title                                             \n",
       "'Til There Was You (1997)  2.333333              9\n",
       "1-900 (1994)               2.600000              5\n",
       "101 Dalmatians (1996)      2.908257            109\n",
       "12 Angry Men (1957)        4.344000            125\n",
       "187 (1997)                 3.024390             41"
      ]
     },
     "execution_count": 30,
     "metadata": {},
     "output_type": "execute_result"
    }
   ],
   "source": [
    "new_df.head()"
   ]
  },
  {
   "cell_type": "code",
   "execution_count": 36,
   "id": "3bc4e44b-7dd6-4abd-b906-18e6d869e782",
   "metadata": {},
   "outputs": [
    {
     "data": {
      "text/html": [
       "<div>\n",
       "<style scoped>\n",
       "    .dataframe tbody tr th:only-of-type {\n",
       "        vertical-align: middle;\n",
       "    }\n",
       "\n",
       "    .dataframe tbody tr th {\n",
       "        vertical-align: top;\n",
       "    }\n",
       "\n",
       "    .dataframe thead th {\n",
       "        text-align: right;\n",
       "    }\n",
       "</style>\n",
       "<table border=\"1\" class=\"dataframe\">\n",
       "  <thead>\n",
       "    <tr style=\"text-align: right;\">\n",
       "      <th></th>\n",
       "      <th>rating</th>\n",
       "      <th>no. of rating</th>\n",
       "    </tr>\n",
       "    <tr>\n",
       "      <th>title</th>\n",
       "      <th></th>\n",
       "      <th></th>\n",
       "    </tr>\n",
       "  </thead>\n",
       "  <tbody>\n",
       "    <tr>\n",
       "      <th>Star Wars (1977)</th>\n",
       "      <td>4.359589</td>\n",
       "      <td>584</td>\n",
       "    </tr>\n",
       "    <tr>\n",
       "      <th>Contact (1997)</th>\n",
       "      <td>3.803536</td>\n",
       "      <td>509</td>\n",
       "    </tr>\n",
       "    <tr>\n",
       "      <th>Fargo (1996)</th>\n",
       "      <td>4.155512</td>\n",
       "      <td>508</td>\n",
       "    </tr>\n",
       "    <tr>\n",
       "      <th>Return of the Jedi (1983)</th>\n",
       "      <td>4.007890</td>\n",
       "      <td>507</td>\n",
       "    </tr>\n",
       "    <tr>\n",
       "      <th>Liar Liar (1997)</th>\n",
       "      <td>3.156701</td>\n",
       "      <td>485</td>\n",
       "    </tr>\n",
       "    <tr>\n",
       "      <th>...</th>\n",
       "      <td>...</td>\n",
       "      <td>...</td>\n",
       "    </tr>\n",
       "    <tr>\n",
       "      <th>Great Day in Harlem, A (1994)</th>\n",
       "      <td>5.000000</td>\n",
       "      <td>1</td>\n",
       "    </tr>\n",
       "    <tr>\n",
       "      <th>Other Voices, Other Rooms (1997)</th>\n",
       "      <td>3.000000</td>\n",
       "      <td>1</td>\n",
       "    </tr>\n",
       "    <tr>\n",
       "      <th>Good Morning (1971)</th>\n",
       "      <td>1.000000</td>\n",
       "      <td>1</td>\n",
       "    </tr>\n",
       "    <tr>\n",
       "      <th>Girls Town (1996)</th>\n",
       "      <td>3.000000</td>\n",
       "      <td>1</td>\n",
       "    </tr>\n",
       "    <tr>\n",
       "      <th>Á köldum klaka (Cold Fever) (1994)</th>\n",
       "      <td>3.000000</td>\n",
       "      <td>1</td>\n",
       "    </tr>\n",
       "  </tbody>\n",
       "</table>\n",
       "<p>1664 rows × 2 columns</p>\n",
       "</div>"
      ],
      "text/plain": [
       "                                      rating  no. of rating\n",
       "title                                                      \n",
       "Star Wars (1977)                    4.359589            584\n",
       "Contact (1997)                      3.803536            509\n",
       "Fargo (1996)                        4.155512            508\n",
       "Return of the Jedi (1983)           4.007890            507\n",
       "Liar Liar (1997)                    3.156701            485\n",
       "...                                      ...            ...\n",
       "Great Day in Harlem, A (1994)       5.000000              1\n",
       "Other Voices, Other Rooms (1997)    3.000000              1\n",
       "Good Morning (1971)                 1.000000              1\n",
       "Girls Town (1996)                   3.000000              1\n",
       "Á köldum klaka (Cold Fever) (1994)  3.000000              1\n",
       "\n",
       "[1664 rows x 2 columns]"
      ]
     },
     "execution_count": 36,
     "metadata": {},
     "output_type": "execute_result"
    }
   ],
   "source": [
    "new_df.sort_values(by='no. of rating',ascending=False)"
   ]
  },
  {
   "cell_type": "code",
   "execution_count": 31,
   "id": "cf0e9881-0678-4fe2-a7ab-97258d9424d6",
   "metadata": {},
   "outputs": [
    {
     "data": {
      "text/plain": [
       "<Axes: xlabel='no. of rating', ylabel='Count'>"
      ]
     },
     "execution_count": 31,
     "metadata": {},
     "output_type": "execute_result"
    },
    {
     "data": {
      "image/png": "[encoded data removed]",
      "text/plain": [
       "<Figure size 640x480 with 1 Axes>"
      ]
     },
     "metadata": {},
     "output_type": "display_data"
    }
   ],
   "source": [
    "sns.histplot(data=new_df,x='no. of rating')"
   ]
  },
  {
   "cell_type": "code",
   "execution_count": 32,
   "id": "204745f9-157c-45ba-be6c-e6589e086f9b",
   "metadata": {},
   "outputs": [
    {
     "data": {
      "text/plain": [
       "<Axes: xlabel='rating', ylabel='Count'>"
      ]
     },
     "execution_count": 32,
     "metadata": {},
     "output_type": "execute_result"
    },
    {
     "data": {
      "image/png": "[encoded data removed]",
      "text/plain": [
       "<Figure size 640x480 with 1 Axes>"
      ]
     },
     "metadata": {},
     "output_type": "display_data"
    }
   ],
   "source": [
    "sns.histplot(data=new_df,x='rating',bins=70)"
   ]
  },
  {
   "cell_type": "markdown",
   "id": "1daf73c6-a25d-40e4-bc36-0d59c85ec017",
   "metadata": {},
   "source": [
    "one important visulaization is remaining :- that correleation between avg. rating and no. of rating."
   ]
  },
  {
   "cell_type": "code",
   "execution_count": 33,
   "id": "1f478b4d-cc59-424e-a0f5-fe6a19b9c5aa",
   "metadata": {},
   "outputs": [
    {
     "data": {
      "text/plain": [
       "<seaborn.axisgrid.JointGrid at 0x178abaa36e0>"
      ]
     },
     "execution_count": 33,
     "metadata": {},
     "output_type": "execute_result"
    },
    {
     "data": {
      "image/png": "[encoded data removed]",
      "text/plain": [
       "<Figure size 600x600 with 3 Axes>"
      ]
     },
     "metadata": {},
     "output_type": "display_data"
    }
   ],
   "source": [
    "sns.jointplot(data=new_df,x='rating',y='no. of rating',alpha=0.5)"
   ]
  },
  {
   "cell_type": "markdown",
   "id": "900e3871-9f91-420e-9acb-239e3a36add8",
   "metadata": {},
   "source": [
    "so above is main trend , if more number of people watching movie it's means movie is good ."
   ]
  },
  {
   "cell_type": "markdown",
   "id": "46de34dc-648b-4a67-989d-2e572fa6580f",
   "metadata": {},
   "source": [
    "now we are going for recommend system on based of item similarity "
   ]
  },
  {
   "cell_type": "code",
   "execution_count": 37,
   "id": "4cfdf216-6077-4111-80c4-d08caa063785",
   "metadata": {},
   "outputs": [],
   "source": [
    "moviemat=df.pivot_table(values='rating',index='user_id',columns='title')"
   ]
  },
  {
   "cell_type": "code",
   "execution_count": 38,
   "id": "0681b684-3112-43be-873b-16b2d20b2fec",
   "metadata": {},
   "outputs": [
    {
     "data": {
      "text/html": [
       "<div>\n",
       "<style scoped>\n",
       "    .dataframe tbody tr th:only-of-type {\n",
       "        vertical-align: middle;\n",
       "    }\n",
       "\n",
       "    .dataframe tbody tr th {\n",
       "        vertical-align: top;\n",
       "    }\n",
       "\n",
       "    .dataframe thead th {\n",
       "        text-align: right;\n",
       "    }\n",
       "</style>\n",
       "<table border=\"1\" class=\"dataframe\">\n",
       "  <thead>\n",
       "    <tr style=\"text-align: right;\">\n",
       "      <th>title</th>\n",
       "      <th>'Til There Was You (1997)</th>\n",
       "      <th>1-900 (1994)</th>\n",
       "      <th>101 Dalmatians (1996)</th>\n",
       "      <th>12 Angry Men (1957)</th>\n",
       "      <th>187 (1997)</th>\n",
       "      <th>2 Days in the Valley (1996)</th>\n",
       "      <th>20,000 Leagues Under the Sea (1954)</th>\n",
       "      <th>2001: A Space Odyssey (1968)</th>\n",
       "      <th>3 Ninjas: High Noon At Mega Mountain (1998)</th>\n",
       "      <th>39 Steps, The (1935)</th>\n",
       "      <th>...</th>\n",
       "      <th>Yankee Zulu (1994)</th>\n",
       "      <th>Year of the Horse (1997)</th>\n",
       "      <th>You So Crazy (1994)</th>\n",
       "      <th>Young Frankenstein (1974)</th>\n",
       "      <th>Young Guns (1988)</th>\n",
       "      <th>Young Guns II (1990)</th>\n",
       "      <th>Young Poisoner's Handbook, The (1995)</th>\n",
       "      <th>Zeus and Roxanne (1997)</th>\n",
       "      <th>unknown</th>\n",
       "      <th>Á köldum klaka (Cold Fever) (1994)</th>\n",
       "    </tr>\n",
       "    <tr>\n",
       "      <th>user_id</th>\n",
       "      <th></th>\n",
       "      <th></th>\n",
       "      <th></th>\n",
       "      <th></th>\n",
       "      <th></th>\n",
       "      <th></th>\n",
       "      <th></th>\n",
       "      <th></th>\n",
       "      <th></th>\n",
       "      <th></th>\n",
       "      <th></th>\n",
       "      <th></th>\n",
       "      <th></th>\n",
       "      <th></th>\n",
       "      <th></th>\n",
       "      <th></th>\n",
       "      <th></th>\n",
       "      <th></th>\n",
       "      <th></th>\n",
       "      <th></th>\n",
       "      <th></th>\n",
       "    </tr>\n",
       "  </thead>\n",
       "  <tbody>\n",
       "    <tr>\n",
       "      <th>0</th>\n",
       "      <td>NaN</td>\n",
       "      <td>NaN</td>\n",
       "      <td>NaN</td>\n",
       "      <td>NaN</td>\n",
       "      <td>NaN</td>\n",
       "      <td>NaN</td>\n",
       "      <td>NaN</td>\n",
       "      <td>NaN</td>\n",
       "      <td>NaN</td>\n",
       "      <td>NaN</td>\n",
       "      <td>...</td>\n",
       "      <td>NaN</td>\n",
       "      <td>NaN</td>\n",
       "      <td>NaN</td>\n",
       "      <td>NaN</td>\n",
       "      <td>NaN</td>\n",
       "      <td>NaN</td>\n",
       "      <td>NaN</td>\n",
       "      <td>NaN</td>\n",
       "      <td>NaN</td>\n",
       "      <td>NaN</td>\n",
       "    </tr>\n",
       "    <tr>\n",
       "      <th>1</th>\n",
       "      <td>NaN</td>\n",
       "      <td>NaN</td>\n",
       "      <td>2.0</td>\n",
       "      <td>5.0</td>\n",
       "      <td>NaN</td>\n",
       "      <td>NaN</td>\n",
       "      <td>3.0</td>\n",
       "      <td>4.0</td>\n",
       "      <td>NaN</td>\n",
       "      <td>NaN</td>\n",
       "      <td>...</td>\n",
       "      <td>NaN</td>\n",
       "      <td>NaN</td>\n",
       "      <td>NaN</td>\n",
       "      <td>5.0</td>\n",
       "      <td>3.0</td>\n",
       "      <td>NaN</td>\n",
       "      <td>NaN</td>\n",
       "      <td>NaN</td>\n",
       "      <td>4.0</td>\n",
       "      <td>NaN</td>\n",
       "    </tr>\n",
       "    <tr>\n",
       "      <th>2</th>\n",
       "      <td>NaN</td>\n",
       "      <td>NaN</td>\n",
       "      <td>NaN</td>\n",
       "      <td>NaN</td>\n",
       "      <td>NaN</td>\n",
       "      <td>NaN</td>\n",
       "      <td>NaN</td>\n",
       "      <td>NaN</td>\n",
       "      <td>1.0</td>\n",
       "      <td>NaN</td>\n",
       "      <td>...</td>\n",
       "      <td>NaN</td>\n",
       "      <td>NaN</td>\n",
       "      <td>NaN</td>\n",
       "      <td>NaN</td>\n",
       "      <td>NaN</td>\n",
       "      <td>NaN</td>\n",
       "      <td>NaN</td>\n",
       "      <td>NaN</td>\n",
       "      <td>NaN</td>\n",
       "      <td>NaN</td>\n",
       "    </tr>\n",
       "    <tr>\n",
       "      <th>3</th>\n",
       "      <td>NaN</td>\n",
       "      <td>NaN</td>\n",
       "      <td>NaN</td>\n",
       "      <td>NaN</td>\n",
       "      <td>2.0</td>\n",
       "      <td>NaN</td>\n",
       "      <td>NaN</td>\n",
       "      <td>NaN</td>\n",
       "      <td>NaN</td>\n",
       "      <td>NaN</td>\n",
       "      <td>...</td>\n",
       "      <td>NaN</td>\n",
       "      <td>NaN</td>\n",
       "      <td>NaN</td>\n",
       "      <td>NaN</td>\n",
       "      <td>NaN</td>\n",
       "      <td>NaN</td>\n",
       "      <td>NaN</td>\n",
       "      <td>NaN</td>\n",
       "      <td>NaN</td>\n",
       "      <td>NaN</td>\n",
       "    </tr>\n",
       "    <tr>\n",
       "      <th>4</th>\n",
       "      <td>NaN</td>\n",
       "      <td>NaN</td>\n",
       "      <td>NaN</td>\n",
       "      <td>NaN</td>\n",
       "      <td>NaN</td>\n",
       "      <td>NaN</td>\n",
       "      <td>NaN</td>\n",
       "      <td>NaN</td>\n",
       "      <td>NaN</td>\n",
       "      <td>NaN</td>\n",
       "      <td>...</td>\n",
       "      <td>NaN</td>\n",
       "      <td>NaN</td>\n",
       "      <td>NaN</td>\n",
       "      <td>NaN</td>\n",
       "      <td>NaN</td>\n",
       "      <td>NaN</td>\n",
       "      <td>NaN</td>\n",
       "      <td>NaN</td>\n",
       "      <td>NaN</td>\n",
       "      <td>NaN</td>\n",
       "    </tr>\n",
       "  </tbody>\n",
       "</table>\n",
       "<p>5 rows × 1664 columns</p>\n",
       "</div>"
      ],
      "text/plain": [
       "title    'Til There Was You (1997)  1-900 (1994)  101 Dalmatians (1996)  \\\n",
       "user_id                                                                   \n",
       "0                              NaN           NaN                    NaN   \n",
       "1                              NaN           NaN                    2.0   \n",
       "2                              NaN           NaN                    NaN   \n",
       "3                              NaN           NaN                    NaN   \n",
       "4                              NaN           NaN                    NaN   \n",
       "\n",
       "title    12 Angry Men (1957)  187 (1997)  2 Days in the Valley (1996)  \\\n",
       "user_id                                                                 \n",
       "0                        NaN         NaN                          NaN   \n",
       "1                        5.0         NaN                          NaN   \n",
       "2                        NaN         NaN                          NaN   \n",
       "3                        NaN         2.0                          NaN   \n",
       "4                        NaN         NaN                          NaN   \n",
       "\n",
       "title    20,000 Leagues Under the Sea (1954)  2001: A Space Odyssey (1968)  \\\n",
       "user_id                                                                      \n",
       "0                                        NaN                           NaN   \n",
       "1                                        3.0                           4.0   \n",
       "2                                        NaN                           NaN   \n",
       "3                                        NaN                           NaN   \n",
       "4                                        NaN                           NaN   \n",
       "\n",
       "title    3 Ninjas: High Noon At Mega Mountain (1998)  39 Steps, The (1935)  \\\n",
       "user_id                                                                      \n",
       "0                                                NaN                   NaN   \n",
       "1                                                NaN                   NaN   \n",
       "2                                                1.0                   NaN   \n",
       "3                                                NaN                   NaN   \n",
       "4                                                NaN                   NaN   \n",
       "\n",
       "title    ...  Yankee Zulu (1994)  Year of the Horse (1997)  \\\n",
       "user_id  ...                                                 \n",
       "0        ...                 NaN                       NaN   \n",
       "1        ...                 NaN                       NaN   \n",
       "2        ...                 NaN                       NaN   \n",
       "3        ...                 NaN                       NaN   \n",
       "4        ...                 NaN                       NaN   \n",
       "\n",
       "title    You So Crazy (1994)  Young Frankenstein (1974)  Young Guns (1988)  \\\n",
       "user_id                                                                      \n",
       "0                        NaN                        NaN                NaN   \n",
       "1                        NaN                        5.0                3.0   \n",
       "2                        NaN                        NaN                NaN   \n",
       "3                        NaN                        NaN                NaN   \n",
       "4                        NaN                        NaN                NaN   \n",
       "\n",
       "title    Young Guns II (1990)  Young Poisoner's Handbook, The (1995)  \\\n",
       "user_id                                                                \n",
       "0                         NaN                                    NaN   \n",
       "1                         NaN                                    NaN   \n",
       "2                         NaN                                    NaN   \n",
       "3                         NaN                                    NaN   \n",
       "4                         NaN                                    NaN   \n",
       "\n",
       "title    Zeus and Roxanne (1997)  unknown  Á köldum klaka (Cold Fever) (1994)  \n",
       "user_id                                                                        \n",
       "0                            NaN      NaN                                 NaN  \n",
       "1                            NaN      4.0                                 NaN  \n",
       "2                            NaN      NaN                                 NaN  \n",
       "3                            NaN      NaN                                 NaN  \n",
       "4                            NaN      NaN                                 NaN  \n",
       "\n",
       "[5 rows x 1664 columns]"
      ]
     },
     "execution_count": 38,
     "metadata": {},
     "output_type": "execute_result"
    }
   ],
   "source": [
    "moviemat.head()"
   ]
  },
  {
   "cell_type": "markdown",
   "id": "5966e3f7-3b10-4568-baad-54e10c83a542",
   "metadata": {},
   "source": [
    "most watched movie :- "
   ]
  },
  {
   "cell_type": "code",
   "execution_count": 40,
   "id": "af92ba7c-37fa-4a59-9511-afdec441e25e",
   "metadata": {},
   "outputs": [
    {
     "data": {
      "text/html": [
       "<div>\n",
       "<style scoped>\n",
       "    .dataframe tbody tr th:only-of-type {\n",
       "        vertical-align: middle;\n",
       "    }\n",
       "\n",
       "    .dataframe tbody tr th {\n",
       "        vertical-align: top;\n",
       "    }\n",
       "\n",
       "    .dataframe thead th {\n",
       "        text-align: right;\n",
       "    }\n",
       "</style>\n",
       "<table border=\"1\" class=\"dataframe\">\n",
       "  <thead>\n",
       "    <tr style=\"text-align: right;\">\n",
       "      <th></th>\n",
       "      <th>rating</th>\n",
       "      <th>no. of rating</th>\n",
       "    </tr>\n",
       "    <tr>\n",
       "      <th>title</th>\n",
       "      <th></th>\n",
       "      <th></th>\n",
       "    </tr>\n",
       "  </thead>\n",
       "  <tbody>\n",
       "    <tr>\n",
       "      <th>Star Wars (1977)</th>\n",
       "      <td>4.359589</td>\n",
       "      <td>584</td>\n",
       "    </tr>\n",
       "    <tr>\n",
       "      <th>Contact (1997)</th>\n",
       "      <td>3.803536</td>\n",
       "      <td>509</td>\n",
       "    </tr>\n",
       "    <tr>\n",
       "      <th>Fargo (1996)</th>\n",
       "      <td>4.155512</td>\n",
       "      <td>508</td>\n",
       "    </tr>\n",
       "    <tr>\n",
       "      <th>Return of the Jedi (1983)</th>\n",
       "      <td>4.007890</td>\n",
       "      <td>507</td>\n",
       "    </tr>\n",
       "    <tr>\n",
       "      <th>Liar Liar (1997)</th>\n",
       "      <td>3.156701</td>\n",
       "      <td>485</td>\n",
       "    </tr>\n",
       "    <tr>\n",
       "      <th>...</th>\n",
       "      <td>...</td>\n",
       "      <td>...</td>\n",
       "    </tr>\n",
       "    <tr>\n",
       "      <th>Great Day in Harlem, A (1994)</th>\n",
       "      <td>5.000000</td>\n",
       "      <td>1</td>\n",
       "    </tr>\n",
       "    <tr>\n",
       "      <th>Other Voices, Other Rooms (1997)</th>\n",
       "      <td>3.000000</td>\n",
       "      <td>1</td>\n",
       "    </tr>\n",
       "    <tr>\n",
       "      <th>Good Morning (1971)</th>\n",
       "      <td>1.000000</td>\n",
       "      <td>1</td>\n",
       "    </tr>\n",
       "    <tr>\n",
       "      <th>Girls Town (1996)</th>\n",
       "      <td>3.000000</td>\n",
       "      <td>1</td>\n",
       "    </tr>\n",
       "    <tr>\n",
       "      <th>Á köldum klaka (Cold Fever) (1994)</th>\n",
       "      <td>3.000000</td>\n",
       "      <td>1</td>\n",
       "    </tr>\n",
       "  </tbody>\n",
       "</table>\n",
       "<p>1664 rows × 2 columns</p>\n",
       "</div>"
      ],
      "text/plain": [
       "                                      rating  no. of rating\n",
       "title                                                      \n",
       "Star Wars (1977)                    4.359589            584\n",
       "Contact (1997)                      3.803536            509\n",
       "Fargo (1996)                        4.155512            508\n",
       "Return of the Jedi (1983)           4.007890            507\n",
       "Liar Liar (1997)                    3.156701            485\n",
       "...                                      ...            ...\n",
       "Great Day in Harlem, A (1994)       5.000000              1\n",
       "Other Voices, Other Rooms (1997)    3.000000              1\n",
       "Good Morning (1971)                 1.000000              1\n",
       "Girls Town (1996)                   3.000000              1\n",
       "Á köldum klaka (Cold Fever) (1994)  3.000000              1\n",
       "\n",
       "[1664 rows x 2 columns]"
      ]
     },
     "execution_count": 40,
     "metadata": {},
     "output_type": "execute_result"
    }
   ],
   "source": [
    "new_df.sort_values('no. of rating',ascending=False)"
   ]
  },
  {
   "cell_type": "code",
   "execution_count": 41,
   "id": "169616d0-de08-429b-a274-b7f08ad269e5",
   "metadata": {},
   "outputs": [],
   "source": [
    "starwars_user_ratings=moviemat['Star Wars (1977)']\n",
    "liarliar_user_ratings=moviemat['Liar Liar (1997)']"
   ]
  },
  {
   "cell_type": "code",
   "execution_count": 42,
   "id": "6365499f-2ed9-4455-93bc-6941a1bcb458",
   "metadata": {},
   "outputs": [
    {
     "data": {
      "text/plain": [
       "user_id\n",
       "0    5.0\n",
       "1    5.0\n",
       "2    5.0\n",
       "3    NaN\n",
       "4    5.0\n",
       "Name: Star Wars (1977), dtype: float64"
      ]
     },
     "execution_count": 42,
     "metadata": {},
     "output_type": "execute_result"
    }
   ],
   "source": [
    "starwars_user_ratings.head()"
   ]
  },
  {
   "cell_type": "markdown",
   "id": "0d12cf14-a584-4b35-902b-1e9ca352578c",
   "metadata": {},
   "source": [
    "we can see there are people who doesn't watched movie so don't give rating."
   ]
  },
  {
   "cell_type": "markdown",
   "id": "fa88acfe-0160-4bf4-88bc-c2fbb29fcb0e",
   "metadata": {},
   "source": [
    "Now we want to see cor relation between two pandas series ....by corrwith"
   ]
  },
  {
   "cell_type": "code",
   "execution_count": 43,
   "id": "a4bd3da6-4c17-4af3-883f-d78895eb5d71",
   "metadata": {},
   "outputs": [
    {
     "name": "stderr",
     "output_type": "stream",
     "text": [
      "C:\\Users\\Govinda.Tak\\AppData\\Local\\anaconda3\\Lib\\site-packages\\numpy\\lib\\function_base.py:2897: RuntimeWarning: invalid value encountered in divide\n",
      "  c /= stddev[:, None]\n",
      "C:\\Users\\Govinda.Tak\\AppData\\Local\\anaconda3\\Lib\\site-packages\\numpy\\lib\\function_base.py:2898: RuntimeWarning: invalid value encountered in divide\n",
      "  c /= stddev[None, :]\n",
      "C:\\Users\\Govinda.Tak\\AppData\\Local\\anaconda3\\Lib\\site-packages\\numpy\\lib\\function_base.py:2889: RuntimeWarning: Degrees of freedom <= 0 for slice\n",
      "  c = cov(x, y, rowvar, dtype=dtype)\n",
      "C:\\Users\\Govinda.Tak\\AppData\\Local\\anaconda3\\Lib\\site-packages\\numpy\\lib\\function_base.py:2748: RuntimeWarning: divide by zero encountered in divide\n",
      "  c *= np.true_divide(1, fact)\n",
      "C:\\Users\\Govinda.Tak\\AppData\\Local\\anaconda3\\Lib\\site-packages\\numpy\\lib\\function_base.py:2748: RuntimeWarning: invalid value encountered in multiply\n",
      "  c *= np.true_divide(1, fact)\n"
     ]
    },
    {
     "data": {
      "text/plain": [
       "title\n",
       "'Til There Was You (1997)                0.872872\n",
       "1-900 (1994)                            -0.645497\n",
       "101 Dalmatians (1996)                    0.211132\n",
       "12 Angry Men (1957)                      0.184289\n",
       "187 (1997)                               0.027398\n",
       "                                           ...   \n",
       "Young Guns II (1990)                     0.228615\n",
       "Young Poisoner's Handbook, The (1995)   -0.007374\n",
       "Zeus and Roxanne (1997)                  0.818182\n",
       "unknown                                  0.723123\n",
       "Á köldum klaka (Cold Fever) (1994)            NaN\n",
       "Length: 1664, dtype: float64"
      ]
     },
     "execution_count": 43,
     "metadata": {},
     "output_type": "execute_result"
    }
   ],
   "source": [
    "moviemat.corrwith(starwars_user_ratings)"
   ]
  },
  {
   "cell_type": "code",
   "execution_count": 44,
   "id": "fd825130-12b2-4b13-9a3e-95840e3c53f8",
   "metadata": {},
   "outputs": [
    {
     "name": "stderr",
     "output_type": "stream",
     "text": [
      "C:\\Users\\Govinda.Tak\\AppData\\Local\\anaconda3\\Lib\\site-packages\\numpy\\lib\\function_base.py:2897: RuntimeWarning: invalid value encountered in divide\n",
      "  c /= stddev[:, None]\n",
      "C:\\Users\\Govinda.Tak\\AppData\\Local\\anaconda3\\Lib\\site-packages\\numpy\\lib\\function_base.py:2898: RuntimeWarning: invalid value encountered in divide\n",
      "  c /= stddev[None, :]\n",
      "C:\\Users\\Govinda.Tak\\AppData\\Local\\anaconda3\\Lib\\site-packages\\numpy\\lib\\function_base.py:2889: RuntimeWarning: Degrees of freedom <= 0 for slice\n",
      "  c = cov(x, y, rowvar, dtype=dtype)\n",
      "C:\\Users\\Govinda.Tak\\AppData\\Local\\anaconda3\\Lib\\site-packages\\numpy\\lib\\function_base.py:2748: RuntimeWarning: divide by zero encountered in divide\n",
      "  c *= np.true_divide(1, fact)\n",
      "C:\\Users\\Govinda.Tak\\AppData\\Local\\anaconda3\\Lib\\site-packages\\numpy\\lib\\function_base.py:2748: RuntimeWarning: invalid value encountered in multiply\n",
      "  c *= np.true_divide(1, fact)\n"
     ]
    }
   ],
   "source": [
    "similar_to_starwars=moviemat.corrwith(starwars_user_ratings)"
   ]
  },
  {
   "cell_type": "code",
   "execution_count": 45,
   "id": "ad4117b4-3227-4632-abec-6af54312e87e",
   "metadata": {},
   "outputs": [
    {
     "name": "stderr",
     "output_type": "stream",
     "text": [
      "C:\\Users\\Govinda.Tak\\AppData\\Local\\anaconda3\\Lib\\site-packages\\numpy\\lib\\function_base.py:2889: RuntimeWarning: Degrees of freedom <= 0 for slice\n",
      "  c = cov(x, y, rowvar, dtype=dtype)\n",
      "C:\\Users\\Govinda.Tak\\AppData\\Local\\anaconda3\\Lib\\site-packages\\numpy\\lib\\function_base.py:2748: RuntimeWarning: divide by zero encountered in divide\n",
      "  c *= np.true_divide(1, fact)\n",
      "C:\\Users\\Govinda.Tak\\AppData\\Local\\anaconda3\\Lib\\site-packages\\numpy\\lib\\function_base.py:2748: RuntimeWarning: invalid value encountered in multiply\n",
      "  c *= np.true_divide(1, fact)\n",
      "C:\\Users\\Govinda.Tak\\AppData\\Local\\anaconda3\\Lib\\site-packages\\numpy\\lib\\function_base.py:2897: RuntimeWarning: invalid value encountered in divide\n",
      "  c /= stddev[:, None]\n",
      "C:\\Users\\Govinda.Tak\\AppData\\Local\\anaconda3\\Lib\\site-packages\\numpy\\lib\\function_base.py:2898: RuntimeWarning: invalid value encountered in divide\n",
      "  c /= stddev[None, :]\n"
     ]
    }
   ],
   "source": [
    "similar_to_liarliar=moviemat.corrwith(liarliar_user_ratings)"
   ]
  },
  {
   "cell_type": "code",
   "execution_count": 46,
   "id": "1de019a6-edeb-4b3c-aad2-ad58b8a501bc",
   "metadata": {},
   "outputs": [
    {
     "data": {
      "text/plain": [
       "pandas.core.series.Series"
      ]
     },
     "execution_count": 46,
     "metadata": {},
     "output_type": "execute_result"
    }
   ],
   "source": [
    "type(similar_to_liarliar)"
   ]
  },
  {
   "cell_type": "code",
   "execution_count": 47,
   "id": "1070cbd4-9393-4ff5-8920-5dde52674964",
   "metadata": {},
   "outputs": [
    {
     "data": {
      "text/html": [
       "<div>\n",
       "<style scoped>\n",
       "    .dataframe tbody tr th:only-of-type {\n",
       "        vertical-align: middle;\n",
       "    }\n",
       "\n",
       "    .dataframe tbody tr th {\n",
       "        vertical-align: top;\n",
       "    }\n",
       "\n",
       "    .dataframe thead th {\n",
       "        text-align: right;\n",
       "    }\n",
       "</style>\n",
       "<table border=\"1\" class=\"dataframe\">\n",
       "  <thead>\n",
       "    <tr style=\"text-align: right;\">\n",
       "      <th></th>\n",
       "      <th>Correlation</th>\n",
       "    </tr>\n",
       "    <tr>\n",
       "      <th>title</th>\n",
       "      <th></th>\n",
       "    </tr>\n",
       "  </thead>\n",
       "  <tbody>\n",
       "    <tr>\n",
       "      <th>'Til There Was You (1997)</th>\n",
       "      <td>0.872872</td>\n",
       "    </tr>\n",
       "    <tr>\n",
       "      <th>1-900 (1994)</th>\n",
       "      <td>-0.645497</td>\n",
       "    </tr>\n",
       "    <tr>\n",
       "      <th>101 Dalmatians (1996)</th>\n",
       "      <td>0.211132</td>\n",
       "    </tr>\n",
       "    <tr>\n",
       "      <th>12 Angry Men (1957)</th>\n",
       "      <td>0.184289</td>\n",
       "    </tr>\n",
       "    <tr>\n",
       "      <th>187 (1997)</th>\n",
       "      <td>0.027398</td>\n",
       "    </tr>\n",
       "    <tr>\n",
       "      <th>...</th>\n",
       "      <td>...</td>\n",
       "    </tr>\n",
       "    <tr>\n",
       "      <th>Young Guns II (1990)</th>\n",
       "      <td>0.228615</td>\n",
       "    </tr>\n",
       "    <tr>\n",
       "      <th>Young Poisoner's Handbook, The (1995)</th>\n",
       "      <td>-0.007374</td>\n",
       "    </tr>\n",
       "    <tr>\n",
       "      <th>Zeus and Roxanne (1997)</th>\n",
       "      <td>0.818182</td>\n",
       "    </tr>\n",
       "    <tr>\n",
       "      <th>unknown</th>\n",
       "      <td>0.723123</td>\n",
       "    </tr>\n",
       "    <tr>\n",
       "      <th>Á köldum klaka (Cold Fever) (1994)</th>\n",
       "      <td>NaN</td>\n",
       "    </tr>\n",
       "  </tbody>\n",
       "</table>\n",
       "<p>1664 rows × 1 columns</p>\n",
       "</div>"
      ],
      "text/plain": [
       "                                       Correlation\n",
       "title                                             \n",
       "'Til There Was You (1997)                 0.872872\n",
       "1-900 (1994)                             -0.645497\n",
       "101 Dalmatians (1996)                     0.211132\n",
       "12 Angry Men (1957)                       0.184289\n",
       "187 (1997)                                0.027398\n",
       "...                                            ...\n",
       "Young Guns II (1990)                      0.228615\n",
       "Young Poisoner's Handbook, The (1995)    -0.007374\n",
       "Zeus and Roxanne (1997)                   0.818182\n",
       "unknown                                   0.723123\n",
       "Á köldum klaka (Cold Fever) (1994)             NaN\n",
       "\n",
       "[1664 rows x 1 columns]"
      ]
     },
     "execution_count": 47,
     "metadata": {},
     "output_type": "execute_result"
    }
   ],
   "source": [
    "#so need to convert in dataframe\n",
    "corr_starwars=pd.DataFrame(similar_to_starwars,columns=['Correlation'])\n",
    "corr_starwars"
   ]
  },
  {
   "cell_type": "code",
   "execution_count": 48,
   "id": "c84a3fc3-4661-4953-a63b-ec7dae19f435",
   "metadata": {},
   "outputs": [],
   "source": [
    "corr_starwars.dropna(inplace=True)"
   ]
  },
  {
   "cell_type": "code",
   "execution_count": 49,
   "id": "eb36a046-3e48-466d-ab55-28b6e4816be0",
   "metadata": {},
   "outputs": [
    {
     "data": {
      "text/html": [
       "<div>\n",
       "<style scoped>\n",
       "    .dataframe tbody tr th:only-of-type {\n",
       "        vertical-align: middle;\n",
       "    }\n",
       "\n",
       "    .dataframe tbody tr th {\n",
       "        vertical-align: top;\n",
       "    }\n",
       "\n",
       "    .dataframe thead th {\n",
       "        text-align: right;\n",
       "    }\n",
       "</style>\n",
       "<table border=\"1\" class=\"dataframe\">\n",
       "  <thead>\n",
       "    <tr style=\"text-align: right;\">\n",
       "      <th></th>\n",
       "      <th>Correlation</th>\n",
       "    </tr>\n",
       "    <tr>\n",
       "      <th>title</th>\n",
       "      <th></th>\n",
       "    </tr>\n",
       "  </thead>\n",
       "  <tbody>\n",
       "    <tr>\n",
       "      <th>'Til There Was You (1997)</th>\n",
       "      <td>0.872872</td>\n",
       "    </tr>\n",
       "    <tr>\n",
       "      <th>1-900 (1994)</th>\n",
       "      <td>-0.645497</td>\n",
       "    </tr>\n",
       "    <tr>\n",
       "      <th>101 Dalmatians (1996)</th>\n",
       "      <td>0.211132</td>\n",
       "    </tr>\n",
       "    <tr>\n",
       "      <th>12 Angry Men (1957)</th>\n",
       "      <td>0.184289</td>\n",
       "    </tr>\n",
       "    <tr>\n",
       "      <th>187 (1997)</th>\n",
       "      <td>0.027398</td>\n",
       "    </tr>\n",
       "  </tbody>\n",
       "</table>\n",
       "</div>"
      ],
      "text/plain": [
       "                           Correlation\n",
       "title                                 \n",
       "'Til There Was You (1997)     0.872872\n",
       "1-900 (1994)                 -0.645497\n",
       "101 Dalmatians (1996)         0.211132\n",
       "12 Angry Men (1957)           0.184289\n",
       "187 (1997)                    0.027398"
      ]
     },
     "execution_count": 49,
     "metadata": {},
     "output_type": "execute_result"
    }
   ],
   "source": [
    "corr_starwars.head()"
   ]
  },
  {
   "cell_type": "code",
   "execution_count": 50,
   "id": "705125b7-cd10-47bb-bba9-dbd181ea738d",
   "metadata": {},
   "outputs": [
    {
     "data": {
      "text/html": [
       "<div>\n",
       "<style scoped>\n",
       "    .dataframe tbody tr th:only-of-type {\n",
       "        vertical-align: middle;\n",
       "    }\n",
       "\n",
       "    .dataframe tbody tr th {\n",
       "        vertical-align: top;\n",
       "    }\n",
       "\n",
       "    .dataframe thead th {\n",
       "        text-align: right;\n",
       "    }\n",
       "</style>\n",
       "<table border=\"1\" class=\"dataframe\">\n",
       "  <thead>\n",
       "    <tr style=\"text-align: right;\">\n",
       "      <th></th>\n",
       "      <th>Correlation</th>\n",
       "    </tr>\n",
       "    <tr>\n",
       "      <th>title</th>\n",
       "      <th></th>\n",
       "    </tr>\n",
       "  </thead>\n",
       "  <tbody>\n",
       "    <tr>\n",
       "      <th>'Til There Was You (1997)</th>\n",
       "      <td>0.872872</td>\n",
       "    </tr>\n",
       "    <tr>\n",
       "      <th>1-900 (1994)</th>\n",
       "      <td>-0.645497</td>\n",
       "    </tr>\n",
       "    <tr>\n",
       "      <th>101 Dalmatians (1996)</th>\n",
       "      <td>0.211132</td>\n",
       "    </tr>\n",
       "    <tr>\n",
       "      <th>12 Angry Men (1957)</th>\n",
       "      <td>0.184289</td>\n",
       "    </tr>\n",
       "    <tr>\n",
       "      <th>187 (1997)</th>\n",
       "      <td>0.027398</td>\n",
       "    </tr>\n",
       "    <tr>\n",
       "      <th>...</th>\n",
       "      <td>...</td>\n",
       "    </tr>\n",
       "    <tr>\n",
       "      <th>Young Guns (1988)</th>\n",
       "      <td>0.186377</td>\n",
       "    </tr>\n",
       "    <tr>\n",
       "      <th>Young Guns II (1990)</th>\n",
       "      <td>0.228615</td>\n",
       "    </tr>\n",
       "    <tr>\n",
       "      <th>Young Poisoner's Handbook, The (1995)</th>\n",
       "      <td>-0.007374</td>\n",
       "    </tr>\n",
       "    <tr>\n",
       "      <th>Zeus and Roxanne (1997)</th>\n",
       "      <td>0.818182</td>\n",
       "    </tr>\n",
       "    <tr>\n",
       "      <th>unknown</th>\n",
       "      <td>0.723123</td>\n",
       "    </tr>\n",
       "  </tbody>\n",
       "</table>\n",
       "<p>1410 rows × 1 columns</p>\n",
       "</div>"
      ],
      "text/plain": [
       "                                       Correlation\n",
       "title                                             \n",
       "'Til There Was You (1997)                 0.872872\n",
       "1-900 (1994)                             -0.645497\n",
       "101 Dalmatians (1996)                     0.211132\n",
       "12 Angry Men (1957)                       0.184289\n",
       "187 (1997)                                0.027398\n",
       "...                                            ...\n",
       "Young Guns (1988)                         0.186377\n",
       "Young Guns II (1990)                      0.228615\n",
       "Young Poisoner's Handbook, The (1995)    -0.007374\n",
       "Zeus and Roxanne (1997)                   0.818182\n",
       "unknown                                   0.723123\n",
       "\n",
       "[1410 rows x 1 columns]"
      ]
     },
     "execution_count": 50,
     "metadata": {},
     "output_type": "execute_result"
    }
   ],
   "source": [
    "corr_starwars"
   ]
  },
  {
   "cell_type": "code",
   "execution_count": 51,
   "id": "f5787982-63fd-4408-813e-70db69a5b2f4",
   "metadata": {},
   "outputs": [
    {
     "data": {
      "text/html": [
       "<div>\n",
       "<style scoped>\n",
       "    .dataframe tbody tr th:only-of-type {\n",
       "        vertical-align: middle;\n",
       "    }\n",
       "\n",
       "    .dataframe tbody tr th {\n",
       "        vertical-align: top;\n",
       "    }\n",
       "\n",
       "    .dataframe thead th {\n",
       "        text-align: right;\n",
       "    }\n",
       "</style>\n",
       "<table border=\"1\" class=\"dataframe\">\n",
       "  <thead>\n",
       "    <tr style=\"text-align: right;\">\n",
       "      <th></th>\n",
       "      <th>Correlation</th>\n",
       "    </tr>\n",
       "    <tr>\n",
       "      <th>title</th>\n",
       "      <th></th>\n",
       "    </tr>\n",
       "  </thead>\n",
       "  <tbody>\n",
       "    <tr>\n",
       "      <th>Commandments (1997)</th>\n",
       "      <td>1.0</td>\n",
       "    </tr>\n",
       "    <tr>\n",
       "      <th>Cosi (1996)</th>\n",
       "      <td>1.0</td>\n",
       "    </tr>\n",
       "    <tr>\n",
       "      <th>No Escape (1994)</th>\n",
       "      <td>1.0</td>\n",
       "    </tr>\n",
       "    <tr>\n",
       "      <th>Stripes (1981)</th>\n",
       "      <td>1.0</td>\n",
       "    </tr>\n",
       "    <tr>\n",
       "      <th>Man of the Year (1995)</th>\n",
       "      <td>1.0</td>\n",
       "    </tr>\n",
       "    <tr>\n",
       "      <th>...</th>\n",
       "      <td>...</td>\n",
       "    </tr>\n",
       "    <tr>\n",
       "      <th>For Ever Mozart (1996)</th>\n",
       "      <td>-1.0</td>\n",
       "    </tr>\n",
       "    <tr>\n",
       "      <th>Frankie Starlight (1995)</th>\n",
       "      <td>-1.0</td>\n",
       "    </tr>\n",
       "    <tr>\n",
       "      <th>I Like It Like That (1994)</th>\n",
       "      <td>-1.0</td>\n",
       "    </tr>\n",
       "    <tr>\n",
       "      <th>American Dream (1990)</th>\n",
       "      <td>-1.0</td>\n",
       "    </tr>\n",
       "    <tr>\n",
       "      <th>Theodore Rex (1995)</th>\n",
       "      <td>-1.0</td>\n",
       "    </tr>\n",
       "  </tbody>\n",
       "</table>\n",
       "<p>1410 rows × 1 columns</p>\n",
       "</div>"
      ],
      "text/plain": [
       "                            Correlation\n",
       "title                                  \n",
       "Commandments (1997)                 1.0\n",
       "Cosi (1996)                         1.0\n",
       "No Escape (1994)                    1.0\n",
       "Stripes (1981)                      1.0\n",
       "Man of the Year (1995)              1.0\n",
       "...                                 ...\n",
       "For Ever Mozart (1996)             -1.0\n",
       "Frankie Starlight (1995)           -1.0\n",
       "I Like It Like That (1994)         -1.0\n",
       "American Dream (1990)              -1.0\n",
       "Theodore Rex (1995)                -1.0\n",
       "\n",
       "[1410 rows x 1 columns]"
      ]
     },
     "execution_count": 51,
     "metadata": {},
     "output_type": "execute_result"
    }
   ],
   "source": [
    " corr_starwars.sort_values('Correlation',ascending=False)"
   ]
  },
  {
   "cell_type": "markdown",
   "id": "acf31676-95dd-4d85-9294-8b9c56f35e65",
   "metadata": {},
   "source": [
    "but we also need number of rating along with correlation then true picture will come."
   ]
  },
  {
   "cell_type": "code",
   "execution_count": 52,
   "id": "76e49079-529b-41fa-a277-3ad9a0d75940",
   "metadata": {},
   "outputs": [
    {
     "data": {
      "text/html": [
       "<div>\n",
       "<style scoped>\n",
       "    .dataframe tbody tr th:only-of-type {\n",
       "        vertical-align: middle;\n",
       "    }\n",
       "\n",
       "    .dataframe tbody tr th {\n",
       "        vertical-align: top;\n",
       "    }\n",
       "\n",
       "    .dataframe thead th {\n",
       "        text-align: right;\n",
       "    }\n",
       "</style>\n",
       "<table border=\"1\" class=\"dataframe\">\n",
       "  <thead>\n",
       "    <tr style=\"text-align: right;\">\n",
       "      <th></th>\n",
       "      <th>Correlation</th>\n",
       "      <th>no. of rating</th>\n",
       "    </tr>\n",
       "    <tr>\n",
       "      <th>title</th>\n",
       "      <th></th>\n",
       "      <th></th>\n",
       "    </tr>\n",
       "  </thead>\n",
       "  <tbody>\n",
       "    <tr>\n",
       "      <th>'Til There Was You (1997)</th>\n",
       "      <td>0.872872</td>\n",
       "      <td>9</td>\n",
       "    </tr>\n",
       "    <tr>\n",
       "      <th>1-900 (1994)</th>\n",
       "      <td>-0.645497</td>\n",
       "      <td>5</td>\n",
       "    </tr>\n",
       "    <tr>\n",
       "      <th>101 Dalmatians (1996)</th>\n",
       "      <td>0.211132</td>\n",
       "      <td>109</td>\n",
       "    </tr>\n",
       "    <tr>\n",
       "      <th>12 Angry Men (1957)</th>\n",
       "      <td>0.184289</td>\n",
       "      <td>125</td>\n",
       "    </tr>\n",
       "    <tr>\n",
       "      <th>187 (1997)</th>\n",
       "      <td>0.027398</td>\n",
       "      <td>41</td>\n",
       "    </tr>\n",
       "  </tbody>\n",
       "</table>\n",
       "</div>"
      ],
      "text/plain": [
       "                           Correlation  no. of rating\n",
       "title                                                \n",
       "'Til There Was You (1997)     0.872872              9\n",
       "1-900 (1994)                 -0.645497              5\n",
       "101 Dalmatians (1996)         0.211132            109\n",
       "12 Angry Men (1957)           0.184289            125\n",
       "187 (1997)                    0.027398             41"
      ]
     },
     "execution_count": 52,
     "metadata": {},
     "output_type": "execute_result"
    }
   ],
   "source": [
    "corr_starwars=corr_starwars.join(new_df['no. of rating'])\n",
    "corr_starwars.head()"
   ]
  },
  {
   "cell_type": "markdown",
   "id": "f19dda45-dca1-4567-b898-b54001c3636f",
   "metadata": {},
   "source": [
    "now we need to filter out the movie who doesn't have 100 ratings"
   ]
  },
  {
   "cell_type": "code",
   "execution_count": 53,
   "id": "f0b4090b-d4cc-4d64-bfc6-a040463fe3cd",
   "metadata": {},
   "outputs": [
    {
     "data": {
      "text/html": [
       "<div>\n",
       "<style scoped>\n",
       "    .dataframe tbody tr th:only-of-type {\n",
       "        vertical-align: middle;\n",
       "    }\n",
       "\n",
       "    .dataframe tbody tr th {\n",
       "        vertical-align: top;\n",
       "    }\n",
       "\n",
       "    .dataframe thead th {\n",
       "        text-align: right;\n",
       "    }\n",
       "</style>\n",
       "<table border=\"1\" class=\"dataframe\">\n",
       "  <thead>\n",
       "    <tr style=\"text-align: right;\">\n",
       "      <th></th>\n",
       "      <th>Correlation</th>\n",
       "      <th>no. of rating</th>\n",
       "    </tr>\n",
       "    <tr>\n",
       "      <th>title</th>\n",
       "      <th></th>\n",
       "      <th></th>\n",
       "    </tr>\n",
       "  </thead>\n",
       "  <tbody>\n",
       "    <tr>\n",
       "      <th>Star Wars (1977)</th>\n",
       "      <td>1.000000</td>\n",
       "      <td>584</td>\n",
       "    </tr>\n",
       "    <tr>\n",
       "      <th>Empire Strikes Back, The (1980)</th>\n",
       "      <td>0.748353</td>\n",
       "      <td>368</td>\n",
       "    </tr>\n",
       "    <tr>\n",
       "      <th>Return of the Jedi (1983)</th>\n",
       "      <td>0.672556</td>\n",
       "      <td>507</td>\n",
       "    </tr>\n",
       "    <tr>\n",
       "      <th>Raiders of the Lost Ark (1981)</th>\n",
       "      <td>0.536117</td>\n",
       "      <td>420</td>\n",
       "    </tr>\n",
       "    <tr>\n",
       "      <th>Austin Powers: International Man of Mystery (1997)</th>\n",
       "      <td>0.377433</td>\n",
       "      <td>130</td>\n",
       "    </tr>\n",
       "  </tbody>\n",
       "</table>\n",
       "</div>"
      ],
      "text/plain": [
       "                                                    Correlation  no. of rating\n",
       "title                                                                         \n",
       "Star Wars (1977)                                       1.000000            584\n",
       "Empire Strikes Back, The (1980)                        0.748353            368\n",
       "Return of the Jedi (1983)                              0.672556            507\n",
       "Raiders of the Lost Ark (1981)                         0.536117            420\n",
       "Austin Powers: International Man of Mystery (1997)     0.377433            130"
      ]
     },
     "execution_count": 53,
     "metadata": {},
     "output_type": "execute_result"
    }
   ],
   "source": [
    "corr_starwars[corr_starwars['no. of rating']>100].sort_values('Correlation',ascending=False).head()"
   ]
  },
  {
   "cell_type": "markdown",
   "id": "433b0f64-8dfc-486c-9572-8d4477e8b79e",
   "metadata": {},
   "source": [
    "from starting to now what we do :- 1st we got which movie most rated with most watched 2)then we calculate correlation with other movies 3)we calculate correlation with no of ratings and then fetch only those movies who watched more then 100 people.\n",
    "smilar to do with liar liar movie"
   ]
  },
  {
   "cell_type": "code",
   "execution_count": 54,
   "id": "437795e9-3abe-4592-89a2-c406ab1bc2b6",
   "metadata": {},
   "outputs": [],
   "source": [
    "corr_liarliar=pd.DataFrame(similar_to_liarliar,columns=['Correlation'])"
   ]
  },
  {
   "cell_type": "code",
   "execution_count": 55,
   "id": "d03f67e3-0517-439d-aec7-cec1f8b7569c",
   "metadata": {},
   "outputs": [],
   "source": [
    "corr_liarliar.dropna(inplace=True)"
   ]
  },
  {
   "cell_type": "code",
   "execution_count": 56,
   "id": "f10293e7-5b04-433c-aee7-72bc586691da",
   "metadata": {},
   "outputs": [],
   "source": [
    "corr_liarliar=corr_liarliar.join(new_df['no. of rating'])"
   ]
  },
  {
   "cell_type": "code",
   "execution_count": 58,
   "id": "4d8fa08c-a373-43d9-a5c2-0d583ee0277b",
   "metadata": {},
   "outputs": [
    {
     "data": {
      "text/html": [
       "<div>\n",
       "<style scoped>\n",
       "    .dataframe tbody tr th:only-of-type {\n",
       "        vertical-align: middle;\n",
       "    }\n",
       "\n",
       "    .dataframe tbody tr th {\n",
       "        vertical-align: top;\n",
       "    }\n",
       "\n",
       "    .dataframe thead th {\n",
       "        text-align: right;\n",
       "    }\n",
       "</style>\n",
       "<table border=\"1\" class=\"dataframe\">\n",
       "  <thead>\n",
       "    <tr style=\"text-align: right;\">\n",
       "      <th></th>\n",
       "      <th>Correlation</th>\n",
       "      <th>no. of rating</th>\n",
       "    </tr>\n",
       "    <tr>\n",
       "      <th>title</th>\n",
       "      <th></th>\n",
       "      <th></th>\n",
       "    </tr>\n",
       "  </thead>\n",
       "  <tbody>\n",
       "    <tr>\n",
       "      <th>Liar Liar (1997)</th>\n",
       "      <td>1.000000</td>\n",
       "      <td>485</td>\n",
       "    </tr>\n",
       "    <tr>\n",
       "      <th>Batman Forever (1995)</th>\n",
       "      <td>0.516968</td>\n",
       "      <td>114</td>\n",
       "    </tr>\n",
       "    <tr>\n",
       "      <th>Mask, The (1994)</th>\n",
       "      <td>0.484650</td>\n",
       "      <td>129</td>\n",
       "    </tr>\n",
       "    <tr>\n",
       "      <th>Down Periscope (1996)</th>\n",
       "      <td>0.472681</td>\n",
       "      <td>101</td>\n",
       "    </tr>\n",
       "    <tr>\n",
       "      <th>Con Air (1997)</th>\n",
       "      <td>0.469828</td>\n",
       "      <td>137</td>\n",
       "    </tr>\n",
       "    <tr>\n",
       "      <th>Pretty Woman (1990)</th>\n",
       "      <td>0.469790</td>\n",
       "      <td>164</td>\n",
       "    </tr>\n",
       "    <tr>\n",
       "      <th>101 Dalmatians (1996)</th>\n",
       "      <td>0.469765</td>\n",
       "      <td>109</td>\n",
       "    </tr>\n",
       "    <tr>\n",
       "      <th>Michael (1996)</th>\n",
       "      <td>0.442022</td>\n",
       "      <td>119</td>\n",
       "    </tr>\n",
       "    <tr>\n",
       "      <th>Waterworld (1995)</th>\n",
       "      <td>0.438405</td>\n",
       "      <td>102</td>\n",
       "    </tr>\n",
       "    <tr>\n",
       "      <th>Indiana Jones and the Last Crusade (1989)</th>\n",
       "      <td>0.414427</td>\n",
       "      <td>331</td>\n",
       "    </tr>\n",
       "  </tbody>\n",
       "</table>\n",
       "</div>"
      ],
      "text/plain": [
       "                                           Correlation  no. of rating\n",
       "title                                                                \n",
       "Liar Liar (1997)                              1.000000            485\n",
       "Batman Forever (1995)                         0.516968            114\n",
       "Mask, The (1994)                              0.484650            129\n",
       "Down Periscope (1996)                         0.472681            101\n",
       "Con Air (1997)                                0.469828            137\n",
       "Pretty Woman (1990)                           0.469790            164\n",
       "101 Dalmatians (1996)                         0.469765            109\n",
       "Michael (1996)                                0.442022            119\n",
       "Waterworld (1995)                             0.438405            102\n",
       "Indiana Jones and the Last Crusade (1989)     0.414427            331"
      ]
     },
     "execution_count": 58,
     "metadata": {},
     "output_type": "execute_result"
    }
   ],
   "source": [
    "corr_liarliar[corr_liarliar['no. of rating']>100].sort_values('Correlation',ascending=False).head(10)"
   ]
  },
  {
   "cell_type": "markdown",
   "id": "ee3717d9-780a-4830-b92b-f022aec1ab5c",
   "metadata": {},
   "source": [
    "so above top 10 movie will be recommended to people who like liar liar movie."
   ]
  }
 ],
 "metadata": {
  "kernelspec": {
   "display_name": "Python 3 (ipykernel)",
   "language": "python",
   "name": "python3"
  },
  "language_info": {
   "codemirror_mode": {
    "name": "ipython",
    "version": 3
   },
   "file_extension": ".py",
   "mimetype": "text/x-python",
   "name": "python",
   "nbconvert_exporter": "python",
   "pygments_lexer": "ipython3",
   "version": "3.12.4"
  }
 },
 "nbformat": 4,
 "nbformat_minor": 5
}
